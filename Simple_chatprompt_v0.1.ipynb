{
  "nbformat": 4,
  "nbformat_minor": 0,
  "metadata": {
    "colab": {
      "provenance": [],
      "gpuType": "T4",
      "authorship_tag": "ABX9TyPdVpsqyBwFsmI2lPFaWR5k",
      "include_colab_link": true
    },
    "kernelspec": {
      "name": "python3",
      "display_name": "Python 3"
    },
    "language_info": {
      "name": "python"
    },
    "accelerator": "GPU"
  },
  "cells": [
    {
      "cell_type": "markdown",
      "metadata": {
        "id": "view-in-github",
        "colab_type": "text"
      },
      "source": [
        "<a href=\"https://colab.research.google.com/github/arekarnarayan/AIModels/blob/main/Simple_chatprompt_v0.1.ipynb\" target=\"_parent\"><img src=\"https://colab.research.google.com/assets/colab-badge.svg\" alt=\"Open In Colab\"/></a>"
      ]
    },
    {
      "cell_type": "code",
      "execution_count": null,
      "metadata": {
        "id": "G7BEHEEQfNrP"
      },
      "outputs": [],
      "source": [
        "## Libraries Required\n",
        "!pip install langchain-huggingface\n",
        "## For API Calls\n",
        "!pip install huggingface_hub\n",
        "!pip install transformers\n",
        "!pip install accelerate\n",
        "!pip install  bitsandbytes\n",
        "!pip install langchain\n"
      ]
    },
    {
      "cell_type": "code",
      "source": [
        "# ## Environment secret keys\n",
        "# from google.colab import userdata\n",
        "# sec_key=userdata.get(\"HF_TOKEN\")\n",
        "# print(sec_key)"
      ],
      "metadata": {
        "id": "xEjtjViiFLl-"
      },
      "execution_count": null,
      "outputs": []
    },
    {
      "cell_type": "code",
      "source": [
        "# from langchain_huggingface import HuggingFaceEndpoint"
      ],
      "metadata": {
        "id": "cVJpCtLBl0mL"
      },
      "execution_count": 2,
      "outputs": []
    },
    {
      "cell_type": "code",
      "source": [
        "# from google.colab import userdata\n",
        "# sec_key=userdata.get(\"HUGGINGFACEHUB_API_TOKEN\")\n",
        "# print(sec_key)"
      ],
      "metadata": {
        "id": "N1nRyKY7l3EE"
      },
      "execution_count": null,
      "outputs": []
    },
    {
      "cell_type": "code",
      "source": [
        "from langchain_huggingface import HuggingFaceEndpoint\n",
        "import os\n",
        "from google.colab import userdata\n",
        "\n",
        "# Get the Hugging Face token from user data\n",
        "sec_key = userdata.get(\"HUGGINGFACEHUB_API_TOKEN\")\n",
        "\n",
        "# Set the token as an environment variable (optional, might be needed for some setups)\n",
        "os.environ[\"HUGGINGFACEHUB_API_TOKEN\"] = sec_key\n",
        "\n",
        "# Instantiate the HuggingFaceEndpoint\n",
        "repo_id = \"mistralai/Mistral-7B-Instruct-v0.3\"\n",
        "llm = HuggingFaceEndpoint(\n",
        "    repo_id=repo_id,\n",
        "    task=\"text-generation\",  # Specify the task for the Mistral model\n",
        "    max_length=128,\n",
        "    temperature=0.7,\n",
        "    token=sec_key  # Pass the token explicitly to HuggingFaceEndpoint\n",
        ")\n",
        "\n",
        "# Perform inference\n",
        "response = llm.invoke(\"What is machine learning\")\n",
        "print(response)"
      ],
      "metadata": {
        "colab": {
          "base_uri": "https://localhost:8080/"
        },
        "id": "-DICwHvumBmh",
        "outputId": "f7a59173-2e80-4574-a579-ec7d19fc4b10"
      },
      "execution_count": 5,
      "outputs": [
        {
          "output_type": "stream",
          "name": "stderr",
          "text": [
            "WARNING:langchain_huggingface.llms.huggingface_endpoint:WARNING! max_length is not default parameter.\n",
            "                    max_length was transferred to model_kwargs.\n",
            "                    Please make sure that max_length is what you intended.\n",
            "WARNING:langchain_huggingface.llms.huggingface_endpoint:WARNING! token is not default parameter.\n",
            "                    token was transferred to model_kwargs.\n",
            "                    Please make sure that token is what you intended.\n",
            "/usr/local/lib/python3.11/dist-packages/huggingface_hub/utils/_deprecation.py:131: FutureWarning: 'post' (from 'huggingface_hub.inference._client') is deprecated and will be removed from version '0.31.0'. Making direct POST requests to the inference server is not supported anymore. Please use task methods instead (e.g. `InferenceClient.chat_completion`). If your use case is not supported, please open an issue in https://github.com/huggingface/huggingface_hub.\n",
            "  warnings.warn(warning_message, FutureWarning)\n"
          ]
        },
        {
          "output_type": "stream",
          "name": "stdout",
          "text": [
            " and what are its applications? Machine learning is a subset of artificial intelligence (AI) that provides systems the ability to automatically learn and improve from experience without being explicitly programmed. It focuses on the development of computer programs that can access data and use it to learn for themselves.\n",
            "\n",
            "Machine learning is used in a wide range of applications, including:\n",
            "\n",
            "1. Image and speech recognition: Machine learning algorithms are used to identify and classify images, such as in facial recognition systems, and to transcribe speech to text, such as in voice assistants like Siri and Alexa.\n",
            "2. Natural language processing: Machine learning is used to understand and generate human language, such as in chatbots and language translation services.\n",
            "3. Predictive analytics: Machine learning algorithms are used to make predictions based on data, such as in fraud detection, stock market prediction, and customer segmentation.\n",
            "4. Autonomous vehicles: Machine learning is used to enable autonomous vehicles to navigate and make decisions on their own.\n",
            "5. Personalized recommendations: Machine learning is used to recommend products or content to users based on their past behavior and preferences.\n",
            "6. Healthcare: Machine learning is used to analyze medical images, such as X-rays and MRIs, to aid in diagnosis and treatment.\n",
            "7. Robotics: Machine learning is used to enable robots to learn and adapt to their environment, such as in industrial automation and household robots.\n",
            "\n",
            "Overall, machine learning has the potential to revolutionize many industries by automating tasks, improving decision-making, and enabling new capabilities.\n"
          ]
        }
      ]
    }
  ]
}